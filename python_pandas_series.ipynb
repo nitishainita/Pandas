{
  "cells": [
    {
      "cell_type": "markdown",
      "metadata": {
        "id": "view-in-github",
        "colab_type": "text"
      },
      "source": [
        "<a href=\"https://colab.research.google.com/github/nitishainita/Pandas/blob/main/python_pandas_series.ipynb\" target=\"_parent\"><img src=\"https://colab.research.google.com/assets/colab-badge.svg\" alt=\"Open In Colab\"/></a>"
      ]
    },
    {
      "cell_type": "code",
      "execution_count": null,
      "id": "79e64eda",
      "metadata": {
        "id": "79e64eda"
      },
      "outputs": [],
      "source": [
        "import pandas as pd "
      ]
    },
    {
      "cell_type": "code",
      "execution_count": null,
      "id": "62816965",
      "metadata": {
        "id": "62816965",
        "outputId": "64098e89-8a73-48d5-fa96-42463a206dbe"
      },
      "outputs": [
        {
          "data": {
            "text/plain": [
              "'1.3.4'"
            ]
          },
          "execution_count": 3,
          "metadata": {},
          "output_type": "execute_result"
        }
      ],
      "source": [
        "pd.__version__"
      ]
    },
    {
      "cell_type": "code",
      "execution_count": null,
      "id": "d9955201",
      "metadata": {
        "id": "d9955201",
        "outputId": "5bde8afe-dde1-4591-95d4-5ae14ea2a50e"
      },
      "outputs": [
        {
          "name": "stdout",
          "output_type": "stream",
          "text": [
            "[1, 2, -3, 6.2, 'data values']\n"
          ]
        }
      ],
      "source": [
        "list_s=[1,2,-3,6.2,'data values']\n",
        "print(list_s)"
      ]
    },
    {
      "cell_type": "code",
      "execution_count": null,
      "id": "7e1c0ffc",
      "metadata": {
        "id": "7e1c0ffc",
        "outputId": "5c3c3965-14b6-46cd-e185-a1aafa5011b3"
      },
      "outputs": [
        {
          "name": "stdout",
          "output_type": "stream",
          "text": [
            "0              1\n",
            "1              2\n",
            "2             -3\n",
            "3            6.2\n",
            "4    data values\n",
            "dtype: object\n"
          ]
        }
      ],
      "source": [
        "series1=pd.Series(list_s)\n",
        "print(series1)"
      ]
    },
    {
      "cell_type": "code",
      "execution_count": null,
      "id": "a8ea7e57",
      "metadata": {
        "id": "a8ea7e57",
        "outputId": "a0436554-ef18-4724-aca4-bba2a489d4ad"
      },
      "outputs": [
        {
          "data": {
            "text/plain": [
              "pandas.core.series.Series"
            ]
          },
          "execution_count": 6,
          "metadata": {},
          "output_type": "execute_result"
        }
      ],
      "source": [
        "type(series1)"
      ]
    },
    {
      "cell_type": "code",
      "execution_count": null,
      "id": "81352638",
      "metadata": {
        "id": "81352638",
        "outputId": "abf0e12d-4ae1-4185-db77-fd003fea857b"
      },
      "outputs": [
        {
          "name": "stdout",
          "output_type": "stream",
          "text": [
            "0    1\n",
            "1    2\n",
            "2    3\n",
            "3    4\n",
            "dtype: int64\n"
          ]
        }
      ],
      "source": [
        "series2=pd.Series([1,2,3,4])\n",
        "print(series2)"
      ]
    },
    {
      "cell_type": "code",
      "execution_count": null,
      "id": "1f8d7d48",
      "metadata": {
        "id": "1f8d7d48",
        "outputId": "4a6a630e-b427-45f4-eece-93405fffb7e1"
      },
      "outputs": [
        {
          "name": "stdout",
          "output_type": "stream",
          "text": [
            "Series([], dtype: float64)\n"
          ]
        },
        {
          "name": "stderr",
          "output_type": "stream",
          "text": [
            "C:\\Users\\NITISH~1\\AppData\\Local\\Temp/ipykernel_45268/2823983443.py:1: DeprecationWarning: The default dtype for empty Series will be 'object' instead of 'float64' in a future version. Specify a dtype explicitly to silence this warning.\n",
            "  empty_s=pd.Series([])\n"
          ]
        }
      ],
      "source": [
        "empty_s=pd.Series([])\n",
        "print(empty_s)"
      ]
    },
    {
      "cell_type": "code",
      "execution_count": null,
      "id": "93563deb",
      "metadata": {
        "id": "93563deb",
        "outputId": "72a957e3-4a02-4404-ae93-bd5c7e7fad5d"
      },
      "outputs": [
        {
          "name": "stdout",
          "output_type": "stream",
          "text": [
            "a    1\n",
            "b    2\n",
            "c    3\n",
            "d    4\n",
            "dtype: int64\n"
          ]
        }
      ],
      "source": [
        "series3=pd.Series([1,2,3,4],index=['a','b','c','d'])\n",
        "print(series3)"
      ]
    },
    {
      "cell_type": "code",
      "execution_count": null,
      "id": "467fae5f",
      "metadata": {
        "id": "467fae5f",
        "outputId": "eabf5661-cf36-43dd-ee2c-05577b123785"
      },
      "outputs": [
        {
          "name": "stdout",
          "output_type": "stream",
          "text": [
            "a    1.0\n",
            "b    2.0\n",
            "c    3.0\n",
            "d    4.0\n",
            "dtype: float64\n"
          ]
        }
      ],
      "source": [
        "series4=pd.Series([1,2,3,4],index=['a','b','c','d'],dtype=float)\n",
        "print(series4)"
      ]
    },
    {
      "cell_type": "code",
      "execution_count": null,
      "id": "575d6e69",
      "metadata": {
        "id": "575d6e69",
        "outputId": "061dbdd6-81ab-4e8f-f151-898acc56f247"
      },
      "outputs": [
        {
          "name": "stdout",
          "output_type": "stream",
          "text": [
            "a    1.0\n",
            "b    2.0\n",
            "c    3.0\n",
            "d    4.0\n",
            "Name: Data values, dtype: float64\n"
          ]
        }
      ],
      "source": [
        "series5=pd.Series([1,2,3,4],index=['a','b','c','d'],dtype=float,name='Data values')\n",
        "print(series5)"
      ]
    },
    {
      "cell_type": "code",
      "execution_count": null,
      "id": "fd8adc78",
      "metadata": {
        "id": "fd8adc78"
      },
      "outputs": [],
      "source": [
        "scalar_s=pd.Series(0.5)"
      ]
    },
    {
      "cell_type": "code",
      "execution_count": null,
      "id": "16e58b4f",
      "metadata": {
        "id": "16e58b4f",
        "outputId": "ba205610-2708-4b5e-e08e-9e13f59e89ac"
      },
      "outputs": [
        {
          "data": {
            "text/plain": [
              "0    0.5\n",
              "dtype: float64"
            ]
          },
          "execution_count": 13,
          "metadata": {},
          "output_type": "execute_result"
        }
      ],
      "source": [
        "scalar_s"
      ]
    },
    {
      "cell_type": "code",
      "execution_count": null,
      "id": "ddb8985b",
      "metadata": {
        "id": "ddb8985b",
        "outputId": "86e49316-fe8b-4b99-b555-cec2c628ab1a"
      },
      "outputs": [
        {
          "name": "stdout",
          "output_type": "stream",
          "text": [
            "a    0.5\n",
            "b    0.5\n",
            "c    0.5\n",
            "dtype: float64\n"
          ]
        }
      ],
      "source": [
        "scalar_s1=pd.Series(0.5,index=['a','b','c'])\n",
        "print(scalar_s1)"
      ]
    },
    {
      "cell_type": "code",
      "execution_count": null,
      "id": "6f5a6bca",
      "metadata": {
        "id": "6f5a6bca",
        "outputId": "ebbdd96f-5d9a-4cef-b098-c5a9a4372a83"
      },
      "outputs": [
        {
          "name": "stdout",
          "output_type": "stream",
          "text": [
            "a    1\n",
            "b    2\n",
            "dtype: int64\n"
          ]
        }
      ],
      "source": [
        "dict_s=pd.Series({'a':1,'b':2})\n",
        "print(dict_s)"
      ]
    },
    {
      "cell_type": "code",
      "execution_count": null,
      "id": "c80894fa",
      "metadata": {
        "id": "c80894fa",
        "outputId": "8e8538d7-a54e-4b1f-a9be-98a18ba3d023"
      },
      "outputs": [
        {
          "data": {
            "text/plain": [
              "0    1\n",
              "1    2\n",
              "2    3\n",
              "3    4\n",
              "4    5\n",
              "dtype: int64"
            ]
          },
          "execution_count": 16,
          "metadata": {},
          "output_type": "execute_result"
        }
      ],
      "source": [
        "s4=pd.Series([1,2,3,4,5])\n",
        "s4"
      ]
    },
    {
      "cell_type": "code",
      "execution_count": null,
      "id": "80d16bc2",
      "metadata": {
        "id": "80d16bc2",
        "outputId": "d512dc9a-1b27-4901-edc9-86f4b375f0a9"
      },
      "outputs": [
        {
          "data": {
            "text/plain": [
              "1"
            ]
          },
          "execution_count": 17,
          "metadata": {},
          "output_type": "execute_result"
        }
      ],
      "source": [
        "s4[0]"
      ]
    },
    {
      "cell_type": "code",
      "execution_count": null,
      "id": "d611d7f2",
      "metadata": {
        "id": "d611d7f2",
        "outputId": "a9eb9267-cb43-4666-eb1b-7ed5ef96f875"
      },
      "outputs": [
        {
          "data": {
            "text/plain": [
              "4"
            ]
          },
          "execution_count": 18,
          "metadata": {},
          "output_type": "execute_result"
        }
      ],
      "source": [
        "s4[3]"
      ]
    },
    {
      "cell_type": "code",
      "execution_count": null,
      "id": "cc7301d1",
      "metadata": {
        "id": "cc7301d1",
        "outputId": "b38f4de5-defa-4852-b110-f9ae7d7083f6"
      },
      "outputs": [
        {
          "data": {
            "text/plain": [
              "0    1\n",
              "1    2\n",
              "2    3\n",
              "3    4\n",
              "dtype: int64"
            ]
          },
          "execution_count": 19,
          "metadata": {},
          "output_type": "execute_result"
        }
      ],
      "source": [
        "s4[0:4]"
      ]
    },
    {
      "cell_type": "code",
      "execution_count": null,
      "id": "fd3b8f5a",
      "metadata": {
        "id": "fd3b8f5a",
        "outputId": "13afac52-a727-4614-d90c-07870a893ff5"
      },
      "outputs": [
        {
          "data": {
            "text/plain": [
              "5"
            ]
          },
          "execution_count": 20,
          "metadata": {},
          "output_type": "execute_result"
        }
      ],
      "source": [
        "max(s4)"
      ]
    },
    {
      "cell_type": "code",
      "execution_count": null,
      "id": "05b5d76d",
      "metadata": {
        "id": "05b5d76d",
        "outputId": "ba8be72c-09e9-402d-931d-f362c6ea75a2"
      },
      "outputs": [
        {
          "data": {
            "text/plain": [
              "1"
            ]
          },
          "execution_count": 22,
          "metadata": {},
          "output_type": "execute_result"
        }
      ],
      "source": [
        "min(s4)"
      ]
    },
    {
      "cell_type": "code",
      "execution_count": null,
      "id": "fc4cbf28",
      "metadata": {
        "id": "fc4cbf28",
        "outputId": "43dab181-c7fc-42e9-cbcc-dff118d3c775"
      },
      "outputs": [
        {
          "data": {
            "text/plain": [
              "3    4\n",
              "4    5\n",
              "dtype: int64"
            ]
          },
          "execution_count": 23,
          "metadata": {},
          "output_type": "execute_result"
        }
      ],
      "source": [
        "s4[s4>3]"
      ]
    },
    {
      "cell_type": "code",
      "execution_count": null,
      "id": "5c72b3bb",
      "metadata": {
        "id": "5c72b3bb",
        "outputId": "ffc9728e-f347-431e-8a84-51f4e3104f30"
      },
      "outputs": [
        {
          "data": {
            "text/plain": [
              "0    1\n",
              "1    2\n",
              "2    3\n",
              "3    4\n",
              "4    5\n",
              "dtype: int64"
            ]
          },
          "execution_count": 24,
          "metadata": {},
          "output_type": "execute_result"
        }
      ],
      "source": [
        "s4"
      ]
    },
    {
      "cell_type": "code",
      "execution_count": null,
      "id": "e28cd553",
      "metadata": {
        "id": "e28cd553",
        "outputId": "f4786222-feef-415f-c9a4-73d062c1c020"
      },
      "outputs": [
        {
          "data": {
            "text/plain": [
              "0    1\n",
              "1    2\n",
              "2    3\n",
              "3    4\n",
              "4    5\n",
              "dtype: int64"
            ]
          },
          "execution_count": 25,
          "metadata": {},
          "output_type": "execute_result"
        }
      ],
      "source": [
        "s5=s4\n",
        "s5"
      ]
    },
    {
      "cell_type": "code",
      "execution_count": null,
      "id": "594895d3",
      "metadata": {
        "id": "594895d3",
        "outputId": "ca14eeed-149f-4293-fb58-d30c9c6fbe4d"
      },
      "outputs": [
        {
          "data": {
            "text/plain": [
              "0     2\n",
              "1     4\n",
              "2     6\n",
              "3     8\n",
              "4    10\n",
              "dtype: int64"
            ]
          },
          "execution_count": 26,
          "metadata": {},
          "output_type": "execute_result"
        }
      ],
      "source": [
        "s4+s5"
      ]
    },
    {
      "cell_type": "markdown",
      "id": "5dd8ccac",
      "metadata": {
        "id": "5dd8ccac"
      },
      "source": [
        "### for unequal data values series"
      ]
    },
    {
      "cell_type": "code",
      "execution_count": null,
      "id": "2990cec1",
      "metadata": {
        "id": "2990cec1",
        "outputId": "0118d93e-e339-4c59-e524-924ce1d84f8c"
      },
      "outputs": [
        {
          "data": {
            "text/plain": [
              "0    1\n",
              "1    2\n",
              "2    3\n",
              "dtype: int64"
            ]
          },
          "execution_count": 27,
          "metadata": {},
          "output_type": "execute_result"
        }
      ],
      "source": [
        "s6=pd.Series([1,2,3])\n",
        "s6"
      ]
    },
    {
      "cell_type": "code",
      "execution_count": null,
      "id": "b4922f19",
      "metadata": {
        "id": "b4922f19",
        "outputId": "5424ee6f-98ce-4bf9-eac4-cd85c136f756"
      },
      "outputs": [
        {
          "data": {
            "text/plain": [
              "0    2.0\n",
              "1    4.0\n",
              "2    6.0\n",
              "3    NaN\n",
              "4    NaN\n",
              "dtype: float64"
            ]
          },
          "execution_count": 28,
          "metadata": {},
          "output_type": "execute_result"
        }
      ],
      "source": [
        "s5+s6"
      ]
    },
    {
      "cell_type": "code",
      "execution_count": null,
      "id": "21bdcb53",
      "metadata": {
        "id": "21bdcb53"
      },
      "outputs": [],
      "source": []
    }
  ],
  "metadata": {
    "kernelspec": {
      "display_name": "Python 3 (ipykernel)",
      "language": "python",
      "name": "python3"
    },
    "language_info": {
      "codemirror_mode": {
        "name": "ipython",
        "version": 3
      },
      "file_extension": ".py",
      "mimetype": "text/x-python",
      "name": "python",
      "nbconvert_exporter": "python",
      "pygments_lexer": "ipython3",
      "version": "3.9.7"
    },
    "colab": {
      "provenance": [],
      "include_colab_link": true
    }
  },
  "nbformat": 4,
  "nbformat_minor": 5
}